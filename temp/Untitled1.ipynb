{
 "cells": [
  {
   "cell_type": "code",
   "execution_count": 118,
   "metadata": {},
   "outputs": [],
   "source": [
    "from functools import reduce\n",
    "def merge(left, right):\n",
    "    output=[]\n",
    "    while len(left)!=0 or len(right)!=0:\n",
    "        if len(left)==0:\n",
    "            output.extend(right)\n",
    "            return(output)\n",
    "        if len(right)==0:\n",
    "            output.extend(left)\n",
    "            return(output)\n",
    "        output.append(left.pop(0)) if left[0]<=right[0] else output.append(right.pop(0))\n",
    "        #print(left, right)\n",
    "    return(output)\n",
    "\n",
    "def nwayms(l):\n",
    "    return(reduce(merge,l))"
   ]
  },
  {
   "cell_type": "code",
   "execution_count": 124,
   "metadata": {},
   "outputs": [
    {
     "data": {
      "text/plain": [
       "[2, 2.6, 3, 3.5, 3.6, 3.7, 4.5, 6, 6.6, 7, 7, 9, 10]"
      ]
     },
     "execution_count": 124,
     "metadata": {},
     "output_type": "execute_result"
    }
   ],
   "source": [
    "L = [[2,3.5,3.7,4.5,6,7],[2.6,3.6,6.6,9],[3,7,10]]"
   ]
  },
  {
   "cell_type": "code",
   "execution_count": null,
   "metadata": {
    "collapsed": true
   },
   "outputs": [],
   "source": [
    "    "
   ]
  }
 ],
 "metadata": {
  "kernelspec": {
   "display_name": "Python 3",
   "language": "python",
   "name": "python3"
  },
  "language_info": {
   "codemirror_mode": {
    "name": "ipython",
    "version": 3
   },
   "file_extension": ".py",
   "mimetype": "text/x-python",
   "name": "python",
   "nbconvert_exporter": "python",
   "pygments_lexer": "ipython3",
   "version": "3.6.2"
  }
 },
 "nbformat": 4,
 "nbformat_minor": 2
}
