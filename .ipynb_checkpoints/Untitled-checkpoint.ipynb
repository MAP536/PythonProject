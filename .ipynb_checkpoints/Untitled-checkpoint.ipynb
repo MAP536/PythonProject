{
 "cells": [
  {
   "cell_type": "code",
   "execution_count": 47,
   "metadata": {},
   "outputs": [],
   "source": [
    "import random\n",
    "class RandomGen(object):\n",
    "    # Values that may be returned by next_num()\n",
    "    _random_nums = []\n",
    "    # Probability of the occurence of random_nums\n",
    "    _probabilities = []\n",
    "    def next_num(self):\n",
    "        r=random.random()\n",
    "        x=0\n",
    "        for idx,val in enumerate(self._probabilities):\n",
    "            x+=val\n",
    "            if r<=x:\n",
    "                return(self._random_nums[idx])"
   ]
  },
  {
   "cell_type": "code",
   "execution_count": 50,
   "metadata": {
    "collapsed": true
   },
   "outputs": [],
   "source": [
    "x=RandomGen()\n",
    "x._random_nums=[-1,0,1,2,3]\n",
    "x._probabilities=[0.01,0.3,0.58,0.1,0.01]"
   ]
  },
  {
   "cell_type": "code",
   "execution_count": 62,
   "metadata": {},
   "outputs": [
    {
     "name": "stdout",
     "output_type": "stream",
     "text": [
      "-1 :  2\n",
      "0 :  29\n",
      "1 :  60\n",
      "2 :  9\n",
      "3 :  0\n"
     ]
    }
   ],
   "source": [
    "    o=[]\n",
    "    for i in range(100):\n",
    "        o.append(x.next_num())\n",
    "    for i in x._random_nums:\n",
    "        print(i,\": \",o.count(i))"
   ]
  }
 ],
 "metadata": {
  "kernelspec": {
   "display_name": "Python 3",
   "language": "python",
   "name": "python3"
  },
  "language_info": {
   "codemirror_mode": {
    "name": "ipython",
    "version": 3
   },
   "file_extension": ".py",
   "mimetype": "text/x-python",
   "name": "python",
   "nbconvert_exporter": "python",
   "pygments_lexer": "ipython3",
   "version": "3.6.2"
  }
 },
 "nbformat": 4,
 "nbformat_minor": 2
}
